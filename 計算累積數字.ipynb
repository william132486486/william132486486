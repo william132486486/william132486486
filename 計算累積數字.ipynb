{
  "nbformat": 4,
  "nbformat_minor": 0,
  "metadata": {
    "colab": {
      "provenance": [],
      "authorship_tag": "ABX9TyO5F7uJ4Zq+sZE1fuTAPt69",
      "include_colab_link": true
    },
    "kernelspec": {
      "name": "python3",
      "display_name": "Python 3"
    },
    "language_info": {
      "name": "python"
    }
  },
  "cells": [
    {
      "cell_type": "markdown",
      "metadata": {
        "id": "view-in-github",
        "colab_type": "text"
      },
      "source": [
        "<a href=\"https://colab.research.google.com/github/william132486486/william132486486/blob/main/%E8%A8%88%E7%AE%97%E7%B4%AF%E7%A9%8D%E6%95%B8%E5%AD%97.ipynb\" target=\"_parent\"><img src=\"https://colab.research.google.com/assets/colab-badge.svg\" alt=\"Open In Colab\"/></a>"
      ]
    },
    {
      "cell_type": "code",
      "execution_count": null,
      "metadata": {
        "id": "PCdb1RGKl3D_"
      },
      "outputs": [],
      "source": [
        "Q1 = 28347871\n"
      ]
    },
    {
      "cell_type": "code",
      "source": [
        "Q2 = 27002293"
      ],
      "metadata": {
        "id": "Qx2ThoTopJI1"
      },
      "execution_count": null,
      "outputs": []
    },
    {
      "cell_type": "code",
      "source": [
        "Q3 = 27668242"
      ],
      "metadata": {
        "id": "ORs7JZFipPhy"
      },
      "execution_count": null,
      "outputs": []
    },
    {
      "cell_type": "code",
      "source": [
        "Q4 = 26295929"
      ],
      "metadata": {
        "id": "Oj0X7nI5pSWL"
      },
      "execution_count": null,
      "outputs": []
    },
    {
      "cell_type": "code",
      "source": [
        "Acc_Q1 = Q1\n",
        "print(Acc_Q1)\n",
        "Acc_Q2 = Q1 + Q2\n",
        "print(Acc_Q2)\n",
        "Acc_Q3 = Q1 + Q2 + Q3\n",
        "print(Acc_Q3)\n",
        "Acc_Q4 = Q1 + Q2 + Q3 + Q4\n",
        "print(Acc_Q4)"
      ],
      "metadata": {
        "colab": {
          "base_uri": "https://localhost:8080/"
        },
        "id": "fGOqSwm0sp89",
        "outputId": "b12a52f1-b0f1-45c6-f086-4e0affe1915e"
      },
      "execution_count": null,
      "outputs": [
        {
          "output_type": "stream",
          "name": "stdout",
          "text": [
            "28347871\n",
            "55350164\n",
            "83018406\n",
            "109314335\n"
          ]
        }
      ]
    }
  ]
}